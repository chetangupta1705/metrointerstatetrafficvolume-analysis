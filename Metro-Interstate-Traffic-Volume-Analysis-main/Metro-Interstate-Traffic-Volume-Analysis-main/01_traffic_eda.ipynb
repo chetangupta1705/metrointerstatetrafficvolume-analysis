
# 📁 01_traffic_eda.ipynb

# 📌 1. Import Required Libraries
import pandas as pd
import matplotlib.pyplot as plt
import seaborn as sns

# Enable inline plotting
%matplotlib inline
sns.set(style="whitegrid")

# 📌 2. Load the Dataset
df = pd.read_csv("data/Metro_Interstate_Traffic_Volume.csv")

# 📌 3. Initial Exploration
print(df.shape)
df.head()

# 📌 4. Convert 'date_time' to datetime format
df['date_time'] = pd.to_datetime(df['date_time'])

# 📌 5. Extract useful time features
df['hour'] = df['date_time'].dt.hour
df['dayofweek'] = df['date_time'].dt.dayofweek
df['month'] = df['date_time'].dt.month
df['year'] = df['date_time'].dt.year
df['weekday'] = df['date_time'].dt.day_name()

# 📌 6. Temperature from Kelvin to Celsius
df['temp_C'] = df['temp'] - 273.15

# 📌 7. Check for missing values
print(df.isnull().sum())

# 📌 8. Traffic volume by hour
plt.figure(figsize=(12, 6))
sns.boxplot(x='hour', y='traffic_volume', data=df)
plt.title("Traffic Volume by Hour of Day")
plt.xlabel("Hour")
plt.ylabel("Traffic Volume")
plt.show()

# 📌 9. Traffic volume by day of the week
plt.figure(figsize=(12, 6))
order = ['Monday', 'Tuesday', 'Wednesday', 'Thursday', 'Friday', 'Saturday', 'Sunday']
sns.boxplot(x='weekday', y='traffic_volume', data=df, order=order)
plt.title("Traffic Volume by Day of Week")
plt.xlabel("Day of Week")
plt.ylabel("Traffic Volume")
plt.show()

# 📌 10. Correlation Heatmap
plt.figure(figsize=(10, 6))
corr = df[['traffic_volume', 'temp_C', 'rain_1h', 'snow_1h', 'clouds_all']].corr()
sns.heatmap(corr, annot=True, cmap='coolwarm')
plt.title("Correlation Heatmap")
plt.show()
